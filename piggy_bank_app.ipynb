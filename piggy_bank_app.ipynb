{
 "cells": [
  {
   "cell_type": "markdown",
   "metadata": {},
   "source": [
    "# Piggy Bank Software"
   ]
  },
  {
   "cell_type": "markdown",
   "metadata": {},
   "source": [
    "We should create a piigy bank application for school children to teach them importance of savings. They should have the option to :\n",
    "\n",
    "- Add moeny\n",
    "- withdraw money\n",
    "- Check the current amount in the piggy bank"
   ]
  },
  {
   "cell_type": "markdown",
   "metadata": {},
   "source": [
    "# Assignment"
   ]
  },
  {
   "cell_type": "markdown",
   "metadata": {},
   "source": [
    "Develope an piggy bank application, which will work as per above instruction."
   ]
  },
  {
   "cell_type": "code",
   "execution_count": 13,
   "metadata": {},
   "outputs": [
    {
     "name": "stdout",
     "output_type": "stream",
     "text": [
      "Start or End : s\n",
      "Add, Withdraw, Check Balance, Statement : a\n",
      "Add amount : 1000\n",
      "After adding , your updated balance is 1000.0 rupees\n",
      "Start or End : s\n",
      "Add, Withdraw, Check Balance, Statement : a\n",
      "Add amount : 201\n",
      "After adding , your updated balance is 1201.0 rupees\n",
      "Start or End : s\n",
      "Add, Withdraw, Check Balance, Statement : w\n",
      "withdraw amount : 100\n",
      "After withdrawing , balance amount is 1101.0 rupees\n",
      "Start or End : s\n",
      "Add, Withdraw, Check Balance, Statement : w\n",
      "withdraw amount : 90\n",
      "After withdrawing , balance amount is 1011.0 rupees\n",
      "Start or End : s\n",
      "Add, Withdraw, Check Balance, Statement : a\n",
      "Add amount : 100\n",
      "After adding , your updated balance is 1111.0 rupees\n",
      "Start or End : s\n",
      "Add, Withdraw, Check Balance, Statement : s\n",
      "Below are your transactions\n",
      "Added Amount: 1000.0\n",
      "Added Amount: 201.0\n",
      "Withdraw Amount: 100.0\n",
      "Withdraw Amount: 90.0\n",
      "Added Amount: 100.0\n",
      "Total Balance: 1111.0\n",
      "Start or End : e\n",
      "Thank you\n"
     ]
    }
   ],
   "source": [
    "t = []\n",
    "def AddMoney(x):\n",
    "    amt = input(\"Add amount : \")\n",
    "    try:\n",
    "        x += float(amt)\n",
    "        x = round(x, 2)\n",
    "        print(\"After adding, your updated balance is %s rupees\" %x)\n",
    "        t.append(\"Added Amount: %s\" %float(amt))\n",
    "    except:\n",
    "        print(\"%s is not a valid number\" %amt)\n",
    "    return x\n",
    "    \n",
    "def Withdraw(x):\n",
    "    amt = input(\"withdraw amount : \")\n",
    "    try:\n",
    "        if float(amt) > x:\n",
    "            print(\"Insufficient balance.\")\n",
    "            print(\"Your balance amount is %s rupees\" %x)\n",
    "            return x\n",
    "        \n",
    "        x -= float(amt)\n",
    "        x = round(x, 2)\n",
    "        print(\"After withdrawing, balance amount is %s rupees\" %x)\n",
    "        t.append(\"Withdraw Amount: %s\" %float(amt))\n",
    "        return x\n",
    "    except:\n",
    "        print(\"%s is not a valid number\" %amt)\n",
    "    return x\n",
    "    \n",
    "def CheckBalance(x):\n",
    "    print(\"Your current balance is %s rupees\" %x)\n",
    "    \n",
    "def AccountStatement(x):\n",
    "    print(\"Below are your transactions\")\n",
    "    [print(i) for i in t]\n",
    "    print(\"Total Balance: %s\" %x)\n",
    "\n",
    "TotalMoney = 0\n",
    "start = ['Start','start',\"s\",'S']\n",
    "add = ['Add','add','a','A']\n",
    "withdraw = ['Withdraw','withdraw','w','W']\n",
    "check = ['Check','check','c','C']\n",
    "end = ['End','end','E','e']\n",
    "statement = ['Statement','statement','S','s']\n",
    "a = input(\"Start or End : \")\n",
    "while a in ['Start','start',\"s\",'S']:\n",
    "    b = input(\"Add, Withdraw, Check Balance, Statement : \")\n",
    "    if b in add: \n",
    "        TotalMoney = AddMoney(TotalMoney)\n",
    "    elif b in withdraw:\n",
    "        TotalMoney = Withdraw(TotalMoney)\n",
    "    elif b in check:\n",
    "        CheckBalance(TotalMoney)\n",
    "    elif b in statement:\n",
    "        AccountStatement(TotalMoney)\n",
    "    else:\n",
    "        print(\"Not a valid input.\")\n",
    "    \n",
    "    a = input(\"Start or End : \")\n",
    "else:\n",
    "    if a in end:\n",
    "        print(\"Thank you\")\n",
    "    else:\n",
    "        print(\"Not a valid input.\")"
   ]
  },
  {
   "cell_type": "code",
   "execution_count": null,
   "metadata": {},
   "outputs": [],
   "source": []
  }
 ],
 "metadata": {
  "kernelspec": {
   "display_name": "Python 3",
   "language": "python",
   "name": "python3"
  },
  "language_info": {
   "codemirror_mode": {
    "name": "ipython",
    "version": 3
   },
   "file_extension": ".py",
   "mimetype": "text/x-python",
   "name": "python",
   "nbconvert_exporter": "python",
   "pygments_lexer": "ipython3",
   "version": "3.7.0"
  }
 },
 "nbformat": 4,
 "nbformat_minor": 2
}
